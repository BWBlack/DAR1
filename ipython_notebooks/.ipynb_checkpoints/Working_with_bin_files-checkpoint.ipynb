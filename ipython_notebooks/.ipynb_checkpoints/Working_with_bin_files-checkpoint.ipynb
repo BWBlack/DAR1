{
 "cells": [
  {
   "cell_type": "code",
   "execution_count": 43,
   "id": "229b118b",
   "metadata": {},
   "outputs": [],
   "source": [
    "import struct\n",
    "import os\n",
    "import numpy as np\n",
    "import xarray as xr"
   ]
  },
  {
   "cell_type": "markdown",
   "id": "eb5cf4e5",
   "metadata": {},
   "source": [
    "# Working with `bin` files "
   ]
  },
  {
   "cell_type": "markdown",
   "id": "ea08e0e4",
   "metadata": {},
   "source": [
    "Each grid cell in the model is initialized with its own values. For example, if we have a 30x30 set of grid cells, \n",
    "we will need to create a bin file for each tracer that is also 30x30. "
   ]
  },
  {
   "cell_type": "code",
   "execution_count": 40,
   "id": "00a188cd",
   "metadata": {},
   "outputs": [],
   "source": [
    "# GOAL: open the file for setting initial values for NO2 from the global darwin run \n",
    "no3_file_name = \"/Users/birdy/Documents/eaps_research/julia stuff/Dar_One/ipython_notebooks/darwin_bin_files/ptr03_run33_4_28800.bin\"\n",
    "\n",
    "# initial values for the 360x160x23 grid (lon, lat, depth)\n",
    "no3_bin = open_bin_file_float(no3_file_name)\n",
    "\n",
    "no3_bin = np.array(no3_bin).reshape(360,160,23)\n"
   ]
  },
  {
   "cell_type": "code",
   "execution_count": 41,
   "id": "27395631",
   "metadata": {},
   "outputs": [
    {
     "data": {
      "text/plain": [
       "array([0.0007881 , 0.00078204, 0.00076508, 0.00075624, 0.00075642,\n",
       "       0.00077227, 0.00079282, 0.00079824, 0.00078987, 0.00080058,\n",
       "       0.0008436 , 0.0008915 , 0.00089969, 0.00089488, 0.00090055,\n",
       "       0.00083883, 0.00077051, 0.00070406, 0.00069073, 0.00070193,\n",
       "       0.00071195, 0.00071937, 0.00073418])"
      ]
     },
     "execution_count": 41,
     "metadata": {},
     "output_type": "execute_result"
    }
   ],
   "source": [
    "no3_bin[205, 130]"
   ]
  },
  {
   "cell_type": "code",
   "execution_count": 38,
   "id": "7975cdc1",
   "metadata": {},
   "outputs": [],
   "source": [
    "# GOAL: open the file for setting initial values for biomass from the global darwin run \n",
    "biomass_file_name = \"/Users/birdy/Documents/eaps_research/julia stuff/Dar_One/ipython_notebooks/darwin_bin_files/biomass_run33_4_28800.bin\"\n",
    "\n",
    "# initial values for the 360x160x23 grid (lon, lat, depth)\n",
    "biomass_bin = open_bin_file_float(biomass_file_name)\n",
    "\n",
    "biomass_bin = np.array(biomass_bin).reshape(360,160,23)\n"
   ]
  },
  {
   "cell_type": "code",
   "execution_count": 39,
   "id": "5e3a8294",
   "metadata": {},
   "outputs": [
    {
     "data": {
      "text/plain": [
       "array([3.89177512e-05, 3.85312924e-05, 3.78081822e-05, 3.71066344e-05,\n",
       "       3.62374121e-05, 3.58786783e-05, 3.62585633e-05, 3.66580898e-05,\n",
       "       3.67217581e-05, 3.73341463e-05, 3.89836314e-05, 4.05421633e-05,\n",
       "       4.16835792e-05, 4.28204621e-05, 4.38299103e-05, 4.39371033e-05,\n",
       "       4.35402981e-05, 4.29526954e-05, 4.35667134e-05, 4.45915321e-05,\n",
       "       4.50661537e-05, 4.51649903e-05, 4.56751732e-05])"
      ]
     },
     "execution_count": 39,
     "metadata": {},
     "output_type": "execute_result"
    }
   ],
   "source": [
    "biomass_bin[205, 130]"
   ]
  },
  {
   "cell_type": "code",
   "execution_count": null,
   "id": "aef70dd4",
   "metadata": {},
   "outputs": [],
   "source": []
  },
  {
   "cell_type": "code",
   "execution_count": null,
   "id": "4ccba331",
   "metadata": {},
   "outputs": [],
   "source": []
  },
  {
   "cell_type": "code",
   "execution_count": 34,
   "id": "2d00cd1c",
   "metadata": {},
   "outputs": [
    {
     "name": "stdout",
     "output_type": "stream",
     "text": [
      "chosen value:  1086960465\n",
      "chosen value:  1073251418\n",
      "chosen value:  1082491478\n",
      "chosen value:  1088289182\n",
      "chosen value:  1087253494\n",
      "chosen value:  1068720605\n",
      "chosen value:  1088503822\n",
      "chosen value:  1084210612\n",
      "chosen value:  1087888220\n",
      "chosen value:  1077525532\n",
      "chosen value:  1082799005\n",
      "chosen value:  1087996106\n",
      "chosen value:  1087839037\n",
      "chosen value:  1072614427\n",
      "chosen value:  1084305329\n",
      "chosen value:  1083495588\n",
      "chosen value:  1088553295\n",
      "chosen value:  1077676039\n",
      "chosen value:  1078989945\n",
      "chosen value:  1081930094\n",
      "chosen value:  1083158196\n",
      "chosen value:  1086163739\n",
      "chosen value:  1080108728\n",
      "chosen value:  1084098185\n",
      "chosen value:  1088203485\n",
      "chosen value:  1080546301\n"
     ]
    }
   ],
   "source": [
    "# GOAL: for each ed and es file, create one that is 12x1 filled with a constant value \n",
    "\n",
    "# index for choosing which value to use (might want to change it in the future to be at equator)\n",
    "lon = 200\n",
    "lat = 100\n",
    "month = 0\n",
    "# NOTE: must be even(?) num characters, something mod 3?\n",
    "#output_folder = f'constant_{lon}_{lat}_0{month}XXX'\n",
    "output_folder = f'cons_{lon}_{lat}'\n",
    "\n",
    "if not os.path.exists(output_folder):\n",
    "    os.makedirs(output_folder)\n",
    "\n",
    "for file in os.listdir('original/'):\n",
    "    file = \"original/\" + file\n",
    "    if 'edp' in file:\n",
    "        single_value = get_single_value(file, lon, lat, month)\n",
    "        print(\"chosen value: \", single_value)\n",
    "        new_data = [single_value] * 12\n",
    "        new_file_name = file[file.index('edp'):file.index('edp')+5]\n",
    "        new_file_name = 'single_box_' + new_file_name + '.bin'\n",
    "        fout = open(output_folder + \"/\" + new_file_name, 'wb')\n",
    "        fout.write(struct.pack('>' + 'i'*12, *new_data))\n",
    "        fout.close()\n",
    "    elif 'esp' in file:\n",
    "        single_value = get_single_value(file, lon, lat, month)\n",
    "        print(\"chosen value: \", single_value)\n",
    "        new_data = [single_value] * 12\n",
    "        new_file_name = file[file.index('esp'):file.index('esp')+5]\n",
    "        new_file_name = 'single_box_' + new_file_name + '.bin'\n",
    "        fout = open(output_folder + \"/\" + new_file_name, 'wb')\n",
    "        fout.write(struct.pack('>' + 'i'*12, *new_data))\n",
    "        fout.close()"
   ]
  },
  {
   "cell_type": "code",
   "execution_count": 25,
   "id": "72f0f44a",
   "metadata": {},
   "outputs": [],
   "source": [
    "# lon: 0 - 359\n",
    "# lat = 0 - 159 (0=south, above 180 is northern hemisphere)\n",
    "# month = 0-11\n",
    "def get_single_value(file_name, lon, lat, month):\n",
    "    with open(file_name, mode='rb') as file: # b is important -> binary\n",
    "        file_content = file.read()\n",
    "    bin_contents = struct.unpack(\">\" + \"i\" * (len(file_content) // 4), file_content)\n",
    "    contents = np.array(bin_contents).reshape(360, 160, 12)\n",
    "    return contents[lon, lat, month]"
   ]
  },
  {
   "cell_type": "markdown",
   "id": "fbc0a2e9",
   "metadata": {},
   "source": [
    "# Create bin files: testing 2x2 grid"
   ]
  },
  {
   "cell_type": "markdown",
   "id": "4f8956a2",
   "metadata": {},
   "source": [
    "Using a global darwin run, create 2x2 bin file for each tracer. \n",
    "\n",
    "71 total files "
   ]
  },
  {
   "cell_type": "code",
   "execution_count": 48,
   "id": "5e5027e5",
   "metadata": {},
   "outputs": [],
   "source": [
    "seed_file_3d = \"/Users/birdy/Documents/eaps_research/gcm_analysis/gcm_data/darwin_weekly_seasonal/3d.nc\"\n",
    "seed_ds_3d = xr.open_dataset(seed_file_3d)\n",
    "seed_ds_3d = seed_ds_3d.rename({\"Zmd000023\":\"Z\"})"
   ]
  },
  {
   "cell_type": "code",
   "execution_count": 54,
   "id": "c16a1669",
   "metadata": {},
   "outputs": [
    {
     "name": "stdout",
     "output_type": "stream",
     "text": [
      "TRAC01\n",
      "TRAC02\n",
      "TRAC03\n",
      "TRAC04\n",
      "TRAC05\n",
      "TRAC06\n",
      "TRAC07\n",
      "TRAC08\n",
      "TRAC09\n",
      "TRAC10\n",
      "TRAC11\n",
      "TRAC12\n",
      "TRAC13\n",
      "TRAC14\n",
      "TRAC15\n",
      "TRAC16\n",
      "TRAC17\n",
      "TRAC18\n",
      "TRAC19\n",
      "TRAC20\n",
      "TRAC21\n",
      "TRAC22\n",
      "TRAC23\n",
      "TRAC24\n",
      "TRAC25\n",
      "TRAC26\n",
      "TRAC27\n",
      "TRAC28\n",
      "TRAC29\n",
      "TRAC30\n",
      "TRAC31\n",
      "TRAC32\n",
      "TRAC33\n",
      "TRAC34\n",
      "TRAC35\n",
      "TRAC36\n",
      "TRAC37\n",
      "TRAC38\n",
      "TRAC39\n",
      "TRAC40\n",
      "TRAC41\n",
      "TRAC42\n",
      "TRAC43\n",
      "TRAC44\n",
      "TRAC45\n",
      "TRAC46\n",
      "TRAC47\n",
      "TRAC48\n",
      "TRAC49\n",
      "TRAC50\n",
      "TRAC51\n",
      "TRAC52\n",
      "TRAC53\n",
      "TRAC54\n",
      "TRAC55\n",
      "TRAC56\n",
      "TRAC57\n",
      "TRAC58\n",
      "TRAC59\n",
      "TRAC60\n",
      "TRAC61\n",
      "TRAC62\n",
      "TRAC63\n",
      "TRAC64\n",
      "TRAC65\n",
      "TRAC66\n",
      "TRAC67\n",
      "TRAC68\n",
      "TRAC69\n",
      "TRAC70\n"
     ]
    }
   ],
   "source": [
    "\n",
    "for i in range(1, 71):\n",
    "    tracer_name = f\"TRAC0{i}\" if i<10 else f\"TRAC{i}\" \n",
    "    data = seed_ds_3d[tracer_name].sel(X=x).isel(Z=z, T=t)\n",
    "    print(tracer_name)"
   ]
  },
  {
   "cell_type": "code",
   "execution_count": 71,
   "id": "bdc9469e",
   "metadata": {},
   "outputs": [],
   "source": [
    "# test writing to file \n",
    "data = seed_ds_3d[\"TRAC21\"].sel(X=203.5, Y=[25.5, 55.5]).isel(Z=0, T=[20, 40]).data.flatten()\n",
    "fout = open(\"bin_test.bin\", 'wb')\n",
    "fout.write(struct.pack('>' + 'd'*4, *data))\n",
    "fout.close()"
   ]
  },
  {
   "cell_type": "code",
   "execution_count": null,
   "id": "4fea5d00",
   "metadata": {},
   "outputs": [],
   "source": [
    "# test reading file \n",
    "file_name = \"bin_test.bin\"\n"
   ]
  },
  {
   "cell_type": "markdown",
   "id": "eb1c3d03",
   "metadata": {},
   "source": [
    "# Methods - run all below "
   ]
  },
  {
   "cell_type": "code",
   "execution_count": 32,
   "id": "976549ea",
   "metadata": {},
   "outputs": [],
   "source": [
    "def open_bin_file_int(file_name):\n",
    "    with open(file_name, mode='rb') as file: # b is important -> binary\n",
    "        file_content = file.read()\n",
    "    bin_contents = struct.unpack(\">\" + \"i\" * (len(file_content) // 4), file_content)\n",
    "    return bin_contents"
   ]
  },
  {
   "cell_type": "code",
   "execution_count": 33,
   "id": "1973ad70",
   "metadata": {},
   "outputs": [],
   "source": [
    "def open_bin_file_float(file_name):\n",
    "    with open(file_name, mode='rb') as file: # b is important -> binary\n",
    "        file_content = file.read()\n",
    "    bin_contents = struct.unpack(\">\" + \"f\" * (len(file_content) // 4), file_content)\n",
    "    return bin_contents"
   ]
  },
  {
   "cell_type": "code",
   "execution_count": null,
   "id": "f75250b4",
   "metadata": {},
   "outputs": [],
   "source": []
  }
 ],
 "metadata": {
  "kernelspec": {
   "display_name": "Python [conda env:eaps-env]",
   "language": "python",
   "name": "conda-env-eaps-env-py"
  },
  "language_info": {
   "codemirror_mode": {
    "name": "ipython",
    "version": 3
   },
   "file_extension": ".py",
   "mimetype": "text/x-python",
   "name": "python",
   "nbconvert_exporter": "python",
   "pygments_lexer": "ipython3",
   "version": "3.9.9"
  }
 },
 "nbformat": 4,
 "nbformat_minor": 5
}
